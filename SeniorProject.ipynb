{
  "nbformat": 4,
  "nbformat_minor": 0,
  "metadata": {
    "colab": {
      "provenance": [],
      "authorship_tag": "ABX9TyPljUu0fHgwKmFeZyKRAgo/",
      "include_colab_link": true
    },
    "kernelspec": {
      "name": "python3",
      "display_name": "Python 3"
    },
    "language_info": {
      "name": "python"
    }
  },
  "cells": [
    {
      "cell_type": "markdown",
      "metadata": {
        "id": "view-in-github",
        "colab_type": "text"
      },
      "source": [
        "<a href=\"https://colab.research.google.com/github/WahabBasa/Detect-Retina-Damage-Using-Transfer-Learning/blob/main/SeniorProject.ipynb\" target=\"_parent\"><img src=\"https://colab.research.google.com/assets/colab-badge.svg\" alt=\"Open In Colab\"/></a>"
      ]
    },
    {
      "cell_type": "code",
      "execution_count": 12,
      "metadata": {
        "colab": {
          "base_uri": "https://localhost:8080/"
        },
        "id": "UEGhpqWFFUja",
        "outputId": "d57feeb2-de15-4ff2-fff0-01104903726f"
      },
      "outputs": [
        {
          "output_type": "stream",
          "name": "stdout",
          "text": [
            "Git config set up complete\n"
          ]
        }
      ],
      "source": [
        "# connecting your GitHub account to colab\n",
        "\n",
        "import subprocess\n",
        "\n",
        "def run_command(command):\n",
        "    process = subprocess.Popen(command, stdout=subprocess.PIPE, stderr=subprocess.PIPE, shell=True)\n",
        "    output, error = process.communicate()\n",
        "    return output.decode(), error.decode()\n",
        "\n",
        "# So that gitHub knows who is making what changes to the repo\n",
        "run_command('git config --global user.email \"wahabbasa@gmail.com\"') # Replace with your github email\n",
        "run_command('git config --global user.name \"Wahabbasa\"') # Replace with you github username\n",
        "\n",
        "print(\"Git config set up complete\")"
      ]
    },
    {
      "cell_type": "code",
      "source": [
        "# Clone the our repo/code base localy\n",
        "\n",
        "repo_url = \"https://github.com/WahabBasa/Detect-Retina-Damage-Using-Transfer-Learning.git\"\n",
        "output, error = run_command(f'git clone {repo_url}')\n",
        "print(output or error)"
      ],
      "metadata": {
        "colab": {
          "base_uri": "https://localhost:8080/"
        },
        "id": "H40f4Hd6Fqyw",
        "outputId": "a46c21d3-6a84-431c-da68-8fdba7952dd7"
      },
      "execution_count": 3,
      "outputs": [
        {
          "output_type": "stream",
          "name": "stdout",
          "text": [
            "Cloning into 'Detect-Retina-Damage-Using-Transfer-Learning'...\n",
            "\n"
          ]
        }
      ]
    },
    {
      "cell_type": "code",
      "source": [
        "# Create a new local branch\n",
        "# Always do this after cloning the remote repo from github\n",
        "\n",
        "import subprocess\n",
        "\n",
        "def run_command(command):\n",
        "    process = subprocess.Popen(command, stdout=subprocess.PIPE, stderr=subprocess.PIPE, shell=True)\n",
        "    output, error = process.communicate()\n",
        "    return output.decode(), error.decode()\n",
        "\n",
        "repo_path = \"Detect-Retina-Damage-Using-Transfer-Learning\"  # Name of the repo\n",
        "new_branch_name = \"testing\"  # Choose your new branch name\n",
        "\n",
        "output, error = run_command(f'cd {repo_path} && git checkout -b {new_branch_name}')\n",
        "print(output or error)"
      ],
      "metadata": {
        "colab": {
          "base_uri": "https://localhost:8080/"
        },
        "id": "GxG49gE5LcYV",
        "outputId": "af4b2be1-4228-4b00-8c58-4333e4f38513"
      },
      "execution_count": 6,
      "outputs": [
        {
          "output_type": "stream",
          "name": "stdout",
          "text": [
            "Switched to a new branch 'testing'\n",
            "\n"
          ]
        }
      ]
    },
    {
      "cell_type": "code",
      "source": [
        "# To see which local branch your currently on.\n",
        "\n",
        "import subprocess\n",
        "\n",
        "def run_command(command):\n",
        "    process = subprocess.Popen(command, stdout=subprocess.PIPE, stderr=subprocess.PIPE, shell=True)\n",
        "    output, error = process.communicate()\n",
        "    return output.decode(), error.decode()\n",
        "\n",
        "repo_path = \"Detect-Retina-Damage-Using-Transfer-Learning\"  # Name of the repo\n",
        "\n",
        "output, error = run_command(f'cd {repo_path} && git branch --show-current')\n",
        "print(f\"Current branch: {output.strip()}\")"
      ],
      "metadata": {
        "colab": {
          "base_uri": "https://localhost:8080/"
        },
        "id": "IXP6KpHaMGxJ",
        "outputId": "8e6c4766-7b90-4a6b-cc07-5c67eadce0dd"
      },
      "execution_count": 7,
      "outputs": [
        {
          "output_type": "stream",
          "name": "stdout",
          "text": [
            "Current branch: testing\n"
          ]
        }
      ]
    },
    {
      "cell_type": "code",
      "source": [
        "# To switch to another local branch\n",
        "\n",
        "import subprocess\n",
        "\n",
        "def run_command(command):\n",
        "    process = subprocess.Popen(command, stdout=subprocess.PIPE, stderr=subprocess.PIPE, shell=True)\n",
        "    output, error = process.communicate()\n",
        "    return output.decode(), error.decode()\n",
        "\n",
        "repo_path = \"Detect-Retina-Damage-Using-Transfer-Learning\"  # Name of repo\n",
        "branch_name = \"main\"  # Replace with the branch you want to switch to\n",
        "\n",
        "output, error = run_command(f'cd {repo_path} && git checkout {branch_name}')\n",
        "print(output or error)"
      ],
      "metadata": {
        "colab": {
          "base_uri": "https://localhost:8080/"
        },
        "id": "MAu8rM9IMh5f",
        "outputId": "165ecbad-0645-45c9-9882-afc04fe81757"
      },
      "execution_count": 9,
      "outputs": [
        {
          "output_type": "stream",
          "name": "stdout",
          "text": [
            "Your branch is up to date with 'origin/main'.\n",
            "\n"
          ]
        }
      ]
    },
    {
      "cell_type": "code",
      "source": [
        "# Deleting a specific local branch\n",
        "\n",
        "import subprocess\n",
        "\n",
        "def run_command(command):\n",
        "    process = subprocess.Popen(command, stdout=subprocess.PIPE, stderr=subprocess.PIPE, shell=True)\n",
        "    output, error = process.communicate()\n",
        "    return output.decode(), error.decode()\n",
        "\n",
        "repo_path = \"Detect-Retina-Damage-Using-Transfer-Learning\"  # Name of repo\n",
        "branch_to_delete = \"branch-name\"  # Replace with the branch you want to delete\n",
        "\n",
        "output, error = run_command(f'cd {repo_path} && git branch -d {branch_to_delete}')\n",
        "print(output or error)"
      ],
      "metadata": {
        "id": "a5QPnSWtNHRX"
      },
      "execution_count": null,
      "outputs": []
    },
    {
      "cell_type": "code",
      "source": [
        "# To see all current local branches\n",
        "\n",
        "import subprocess\n",
        "\n",
        "def run_command(command):\n",
        "    process = subprocess.Popen(command, stdout=subprocess.PIPE, stderr=subprocess.PIPE, shell=True)\n",
        "    output, error = process.communicate()\n",
        "    return output.decode(), error.decode()\n",
        "\n",
        "repo_path = \"Detect-Retina-Damage-Using-Transfer-Learning\"  # Name of repo\n",
        "\n",
        "command = f'cd {repo_path} && git branch -a'\n",
        "output, error = run_command(command)\n",
        "\n",
        "print(\"All branches:\")\n",
        "print(output or error)"
      ],
      "metadata": {
        "colab": {
          "base_uri": "https://localhost:8080/"
        },
        "id": "s7gg5To4PWQk",
        "outputId": "2a14279c-5b2a-46c9-a787-2b6fc0d8bfb6"
      },
      "execution_count": 10,
      "outputs": [
        {
          "output_type": "stream",
          "name": "stdout",
          "text": [
            "All branches:\n",
            "* main\n",
            "  testing\n",
            "  remotes/origin/HEAD -> origin/main\n",
            "  remotes/origin/main\n",
            "\n"
          ]
        }
      ]
    }
  ]
}